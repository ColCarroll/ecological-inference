{
 "cells": [
  {
   "cell_type": "markdown",
   "metadata": {},
   "source": [
    "# Model exploration, checking, and comparison\n",
    "\n",
    "An important goal of creating pyei was to facilitate the exploration, evaluation, and comparison of models for ecological inference. We wanted to make it easier to perform the kinds of checks that are typically part of a Bayesian workflow, such as prior predictive checks, posterior predictive checks, diagnostics checks for the samples, etc. This notebooks is a work in progress, meant to demonstrate some ways to use pyei to better understand the underlying models."
   ]
  },
  {
   "cell_type": "code",
   "execution_count": 183,
   "metadata": {},
   "outputs": [],
   "source": [
    "import numpy as np\n",
    "import pymc3 as pm\n",
    "from matplotlib import pyplot as plt\n",
    "from pyei.two_by_two import TwoByTwoEI\n",
    "from pyei.goodmans_er import GoodmansER, GoodmansERBayes\n",
    "from pyei.data import get_data"
   ]
  },
  {
   "cell_type": "markdown",
   "metadata": {},
   "source": [
    "### Load some example data"
   ]
  },
  {
   "cell_type": "code",
   "execution_count": 184,
   "metadata": {},
   "outputs": [],
   "source": [
    "# Load example data\n",
    "data = get_data(\"santaClara.csv\")\n",
    "X = np.array(data[\"pct_e_asian_vote\"])\n",
    "T = np.array(data[\"pct_for_hardy2\"])\n",
    "N = np.array(data[\"total2\"])\n",
    "demographic_group_name = \"e_asian\"\n",
    "candidate_name=\"Hardy\"\n",
    "precinct_names = data['precinct']"
   ]
  },
  {
   "cell_type": "markdown",
   "metadata": {},
   "source": [
    "### Set up the model"
   ]
  },
  {
   "cell_type": "code",
   "execution_count": 185,
   "metadata": {},
   "outputs": [],
   "source": [
    "ei = TwoByTwoEI(model_name=\"king99_pareto_modification\", pareto_scale=8, pareto_shape=2)\n",
    "\n",
    "#NOTE: right now, the fit function is the easiest way to set the model (ei.sim_model), which we need for the prior predictive\n",
    "# But, we of course don't use the draws from the posterior in the prior predictive checks!\n",
    "# Note that the prior predictive draws of votes_count *DO* depend on precinct_pops and demographic_group_fractions\n",
    "ei.fit(X, T, N, demographic_group_name=demographic_group_name, candidate_name=candidate_name, precinct_names=precinct_names, draw_samples=False)\n"
   ]
  },
  {
   "cell_type": "markdown",
   "metadata": {},
   "source": [
    "### Sample from the prior predictive distribution"
   ]
  },
  {
   "cell_type": "code",
   "execution_count": 186,
   "metadata": {},
   "outputs": [],
   "source": [
    "# Sample from the prior predictive distributions\n",
    "with ei.sim_model as sim_model:\n",
    "    prior_pred = pm.sample_prior_predictive(10000)"
   ]
  },
  {
   "cell_type": "code",
   "execution_count": 187,
   "metadata": {},
   "outputs": [],
   "source": [
    "### Examine the prior predictive distribution"
   ]
  },
  {
   "cell_type": "code",
   "execution_count": 188,
   "metadata": {},
   "outputs": [
    {
     "data": {
      "text/plain": [
       "['phi_1', 'kappa_1', 'phi_2', 'kappa_2', 'b_1', 'b_2', 'votes_count']"
      ]
     },
     "execution_count": 188,
     "metadata": {},
     "output_type": "execute_result"
    }
   ],
   "source": [
    "# A list of the named random variables in the model (so that we know what we can examine)\n",
    "pm.util.get_default_varnames(ei.sim_model.named_vars, include_transformed=False)"
   ]
  },
  {
   "cell_type": "code",
   "execution_count": 189,
   "metadata": {},
   "outputs": [
    {
     "data": {
      "text/plain": [
       "(10000, 42)"
      ]
     },
     "execution_count": 189,
     "metadata": {},
     "output_type": "execute_result"
    }
   ],
   "source": [
    "prior_pred['votes_count'].shape # number of prior predictive draws x num_precincts"
   ]
  },
  {
   "cell_type": "code",
   "execution_count": 190,
   "metadata": {},
   "outputs": [
    {
     "data": {
      "text/plain": [
       "(array([1126.,  990., 1019.,  962.,  908.,  963.,  992.,  978.,  940.,\n",
       "        1122.]),\n",
       " array([  0. ,  65.8, 131.6, 197.4, 263.2, 329. , 394.8, 460.6, 526.4,\n",
       "        592.2, 658. ]),\n",
       " <a list of 10 Patch objects>)"
      ]
     },
     "execution_count": 190,
     "metadata": {},
     "output_type": "execute_result"
    },
    {
     "data": {
      "image/png": "[encoded data removed]",
      "text/plain": [
       "<Figure size 432x288 with 1 Axes>"
      ]
     },
     "metadata": {
      "needs_background": "light"
     },
     "output_type": "display_data"
    }
   ],
   "source": [
    "# plot a histogram of the prior predictive draws of the count of votes in the 0'th county\n",
    "plt.hist(prior_pred['votes_count'][:,0])"
   ]
  },
  {
   "cell_type": "code",
   "execution_count": 191,
   "metadata": {},
   "outputs": [
    {
     "data": {
      "text/plain": [
       "(array([1325.,  897.,  930.,  915.,  931.,  976.,  899.,  940.,  912.,\n",
       "        1275.]),\n",
       " array([0. , 0.1, 0.2, 0.3, 0.4, 0.5, 0.6, 0.7, 0.8, 0.9, 1. ]),\n",
       " <a list of 10 Patch objects>)"
      ]
     },
     "execution_count": 191,
     "metadata": {},
     "output_type": "execute_result"
    },
    {
     "data": {
      "image/png": "[encoded data removed]",
      "text/plain": [
       "<Figure size 432x288 with 1 Axes>"
      ]
     },
     "metadata": {
      "needs_background": "light"
     },
     "output_type": "display_data"
    }
   ],
   "source": [
    "plt.hist(prior_pred['b_1'][:,0])"
   ]
  },
  {
   "cell_type": "code",
   "execution_count": 192,
   "metadata": {},
   "outputs": [
    {
     "data": {
      "text/plain": [
       "(array([1292.,  952.,  967.,  901.,  899.,  926.,  956.,  913.,  898.,\n",
       "        1296.]),\n",
       " array([0. , 0.1, 0.2, 0.3, 0.4, 0.5, 0.6, 0.7, 0.8, 0.9, 1. ]),\n",
       " <a list of 10 Patch objects>)"
      ]
     },
     "execution_count": 192,
     "metadata": {},
     "output_type": "execute_result"
    },
    {
     "data": {
      "image/png": "[encoded data removed]",
      "text/plain": [
       "<Figure size 432x288 with 1 Axes>"
      ]
     },
     "metadata": {
      "needs_background": "light"
     },
     "output_type": "display_data"
    }
   ],
   "source": [
    "plt.hist(prior_pred['b_2'][:,0])"
   ]
  },
  {
   "cell_type": "code",
   "execution_count": 193,
   "metadata": {},
   "outputs": [
    {
     "data": {
      "text/plain": [
       "(array([9.888e+03, 7.900e+01, 1.700e+01, 4.000e+00, 5.000e+00, 3.000e+00,\n",
       "        0.000e+00, 1.000e+00, 1.000e+00, 2.000e+00]),\n",
       " array([  8.00032974,  81.78415955, 155.56798936, 229.35181918,\n",
       "        303.13564899, 376.9194788 , 450.70330861, 524.48713842,\n",
       "        598.27096823, 672.05479804, 745.83862785]),\n",
       " <a list of 10 Patch objects>)"
      ]
     },
     "execution_count": 193,
     "metadata": {},
     "output_type": "execute_result"
    },
    {
     "data": {
      "image/png": "[encoded data removed]",
      "text/plain": [
       "<Figure size 432x288 with 1 Axes>"
      ]
     },
     "metadata": {
      "needs_background": "light"
     },
     "output_type": "display_data"
    }
   ],
   "source": [
    "plt.hist(prior_pred['kappa_1'])"
   ]
  },
  {
   "cell_type": "code",
   "execution_count": 194,
   "metadata": {},
   "outputs": [
    {
     "data": {
      "text/plain": [
       "(array([1006., 1000.,  970.,  985., 1025., 1009., 1014., 1041.,  989.,\n",
       "         961.]),\n",
       " array([1.38271079e-04, 1.00114563e-01, 2.00090856e-01, 3.00067148e-01,\n",
       "        4.00043440e-01, 5.00019732e-01, 5.99996025e-01, 6.99972317e-01,\n",
       "        7.99948609e-01, 8.99924901e-01, 9.99901194e-01]),\n",
       " <a list of 10 Patch objects>)"
      ]
     },
     "execution_count": 194,
     "metadata": {},
     "output_type": "execute_result"
    },
    {
     "data": {
      "image/png": "[encoded data removed]",
      "text/plain": [
       "<Figure size 432x288 with 1 Axes>"
      ]
     },
     "metadata": {
      "needs_background": "light"
     },
     "output_type": "display_data"
    }
   ],
   "source": [
    "plt.hist(prior_pred['phi_1'])"
   ]
  },
  {
   "cell_type": "code",
   "execution_count": 195,
   "metadata": {},
   "outputs": [],
   "source": [
    "# We can weight by population and obtain district-level voting preferences from the prior predictive samples, if we want\n",
    "sampled_voting_prefs_gp1 = (prior_pred[\"b_1\"] * N).sum(axis=1) / N.sum()\n",
    "sampled_voting_prefs_gp2 = (prior_pred[\"b_2\"] * N).sum(axis=1) / N.sum()\n"
   ]
  },
  {
   "cell_type": "code",
   "execution_count": 196,
   "metadata": {},
   "outputs": [
    {
     "data": {
      "text/plain": [
       "(array([1011., 1000.,  985.,  981., 1020., 1025., 1011.,  998., 1011.,\n",
       "         958.]),\n",
       " array([2.7270858e-13, 1.0000000e-01, 2.0000000e-01, 3.0000000e-01,\n",
       "        4.0000000e-01, 5.0000000e-01, 6.0000000e-01, 7.0000000e-01,\n",
       "        8.0000000e-01, 9.0000000e-01, 1.0000000e+00]),\n",
       " <a list of 10 Patch objects>)"
      ]
     },
     "execution_count": 196,
     "metadata": {},
     "output_type": "execute_result"
    },
    {
     "data": {
      "image/png": "[encoded data removed]",
      "text/plain": [
       "<Figure size 432x288 with 1 Axes>"
      ]
     },
     "metadata": {
      "needs_background": "light"
     },
     "output_type": "display_data"
    }
   ],
   "source": [
    "plt.hist(sampled_voting_prefs_gp1)"
   ]
  },
  {
   "cell_type": "code",
   "execution_count": 197,
   "metadata": {},
   "outputs": [
    {
     "data": {
      "text/plain": [
       "(array([ 216.,  593.,  983., 1382., 1803., 1753., 1394., 1062.,  611.,\n",
       "         203.]),\n",
       " array([-0.99256247, -0.7946472 , -0.59673192, -0.39881665, -0.20090138,\n",
       "        -0.00298611,  0.19492916,  0.39284444,  0.59075971,  0.78867498,\n",
       "         0.98659025]),\n",
       " <a list of 10 Patch objects>)"
      ]
     },
     "execution_count": 197,
     "metadata": {},
     "output_type": "execute_result"
    },
    {
     "data": {
      "image/png": "[encoded data removed]",
      "text/plain": [
       "<Figure size 432x288 with 1 Axes>"
      ]
     },
     "metadata": {
      "needs_background": "light"
     },
     "output_type": "display_data"
    }
   ],
   "source": [
    "plt.hist(sampled_voting_prefs_gp1 - sampled_voting_prefs_gp2)"
   ]
  },
  {
   "cell_type": "code",
   "execution_count": 198,
   "metadata": {},
   "outputs": [
    {
     "data": {
      "text/plain": [
       "0.8102"
      ]
     },
     "execution_count": 198,
     "metadata": {},
     "output_type": "execute_result"
    }
   ],
   "source": [
    "# We can probe, e.g., what percentage of samples from the prior predictive look polarized according to this measure\n",
    "(abs(sampled_voting_prefs_gp1 - sampled_voting_prefs_gp2) > 0.1).sum()/ len(sampled_voting_prefs_gp1)"
   ]
  },
  {
   "cell_type": "markdown",
   "metadata": {},
   "source": [
    "### Fitting the model and generating posterior samples"
   ]
  },
  {
   "cell_type": "code",
   "execution_count": null,
   "metadata": {},
   "outputs": [
    {
     "name": "stderr",
     "output_type": "stream",
     "text": [
      "Auto-assigning NUTS sampler...\n",
      "Initializing NUTS using jitter+adapt_diag...\n",
      "Multiprocess sampling (4 chains in 4 jobs)\n",
      "NUTS: [b_2, b_1, kappa_2, phi_2, kappa_1, phi_1]\n",
      "Sampling 4 chains, 0 divergences:  81%|████████  | 11282/14000 [00:32<00:06, 423.66draws/s]"
     ]
    }
   ],
   "source": [
    "## Fitting the model\n",
    "ei.fit(X, T, N, demographic_group_name=demographic_group_name, candidate_name=candidate_name, precinct_names=precinct_names, tune=3000)"
   ]
  },
  {
   "cell_type": "markdown",
   "metadata": {},
   "source": [
    "### Sample from the posterior predictive"
   ]
  },
  {
   "cell_type": "code",
   "execution_count": null,
   "metadata": {},
   "outputs": [],
   "source": [
    "with ei.sim_model as sim_model:\n",
    "    posterior_pred = pm.sample_posterior_predictive(ei.sim_trace)"
   ]
  },
  {
   "cell_type": "code",
   "execution_count": null,
   "metadata": {},
   "outputs": [],
   "source": [
    "plt.hist(posterior_pred['votes_count'][0,:]) # Simulated vote counts for the 0th county"
   ]
  },
  {
   "cell_type": "markdown",
   "metadata": {},
   "source": [
    "# Using arviz to explore the model:\n",
    "\n",
    "Pyei works well with arviz, a library for exploratory analysis of bayesian models.\n"
   ]
  },
  {
   "cell_type": "code",
   "execution_count": null,
   "metadata": {},
   "outputs": [],
   "source": [
    "import arviz as az"
   ]
  },
  {
   "cell_type": "markdown",
   "metadata": {},
   "source": [
    "### We'll use the outputs of pyei and pymc and will create a data inference object that has prior predictive, posterior, and posterior predictive distributions all contained within it. "
   ]
  },
  {
   "cell_type": "code",
   "execution_count": null,
   "metadata": {},
   "outputs": [],
   "source": [
    "# with arviz\n",
    "data = az.from_pymc3(\n",
    "    trace=ei.sim_trace, #the posterior distribution\n",
    "    prior=prior_pred,\n",
    "    posterior_predictive=posterior_pred,\n",
    "    model=ei.sim_model,\n",
    ")\n",
    "data"
   ]
  },
  {
   "cell_type": "markdown",
   "metadata": {},
   "source": [
    "### We can look at some convergence diagnostics like rhat and the essential sample size for each variable"
   ]
  },
  {
   "cell_type": "code",
   "execution_count": null,
   "metadata": {},
   "outputs": [],
   "source": [
    "az.ess(data)"
   ]
  },
  {
   "cell_type": "code",
   "execution_count": null,
   "metadata": {},
   "outputs": [],
   "source": [
    "az.rhat(data)"
   ]
  },
  {
   "cell_type": "markdown",
   "metadata": {},
   "source": [
    "### Traceplots"
   ]
  },
  {
   "cell_type": "code",
   "execution_count": null,
   "metadata": {},
   "outputs": [],
   "source": [
    "az.plot_trace(data, compact=True)\n",
    "# each color here is a different chain, vertical tick marks mark divergences\n",
    "# Set compact = False to see each county on a different plot"
   ]
  },
  {
   "cell_type": "code",
   "execution_count": null,
   "metadata": {},
   "outputs": [],
   "source": [
    "## We can look at posterior predictive draws\n",
    "az.plot_ppc(data)"
   ]
  },
  {
   "cell_type": "markdown",
   "metadata": {},
   "source": [
    "### We can compare prior and posterior distributions of variables of interest"
   ]
  },
  {
   "cell_type": "code",
   "execution_count": null,
   "metadata": {},
   "outputs": [],
   "source": [
    "az.plot_dist_comparison(data, var_names='phi_1')"
   ]
  },
  {
   "cell_type": "code",
   "execution_count": null,
   "metadata": {},
   "outputs": [],
   "source": [
    "#az.plot_dist_comparison(data, var_names='b_2')"
   ]
  },
  {
   "cell_type": "code",
   "execution_count": null,
   "metadata": {},
   "outputs": [],
   "source": [
    "#data.posterior['voting_prefs_gp1'] =  ei.sampled_voting_prefs[0]"
   ]
  },
  {
   "cell_type": "code",
   "execution_count": null,
   "metadata": {},
   "outputs": [],
   "source": [
    "#data.posterior['voting_prefs_gp2'] =  ei.sampled_voting_prefs[1]"
   ]
  },
  {
   "cell_type": "code",
   "execution_count": null,
   "metadata": {},
   "outputs": [],
   "source": [
    "#az.plot_dist(data.posterior['voting_prefs_gp1'])"
   ]
  },
  {
   "cell_type": "markdown",
   "metadata": {},
   "source": [
    "### Draws from the prior predictive distribution are one source of simulated data on which we can test our model\n",
    "\n",
    "\n",
    "Note that the prior predictive distribution will use the precinct populations (here, N) and the group fractions (here X) in generating the vote counts for each county. Here we'll come up with fictional X and N before we use them to generate the votes.\n",
    "\n",
    "This is a generous-to-the-model way to make fake data for our model -- since the data comes from the generative model itself! We also want to think about what happens if the data in the real world doesn't look much like data from the generative model."
   ]
  },
  {
   "cell_type": "code",
   "execution_count": null,
   "metadata": {},
   "outputs": [],
   "source": [
    "num_precincts = 10\n",
    "X = np.linspace(0.1, 0.9, num_precincts)\n",
    "N = 100 * np.ones(num_precincts)\n",
    "T = 50 * np.ones(num_precincts) / N #ei.fit needs a vote_counts, value, even though this won't get used in the prior predictive"
   ]
  },
  {
   "cell_type": "code",
   "execution_count": null,
   "metadata": {},
   "outputs": [],
   "source": [
    "# Sample from the prior predictive\n",
    "ei.fit(X, T, N, draw_samples=False)\n",
    "with ei.sim_model as model:\n",
    "    prior_pred_for_simulation = pm.sample_prior_predictive()"
   ]
  },
  {
   "cell_type": "code",
   "execution_count": null,
   "metadata": {},
   "outputs": [],
   "source": [
    "# Use one of the prior predictive samples as simulated data\n",
    "sample_num = 0\n",
    "simulated_vote_fraction = prior_pred_for_simulation['votes_count'][sample_num,:] / N"
   ]
  },
  {
   "cell_type": "code",
   "execution_count": null,
   "metadata": {},
   "outputs": [],
   "source": [
    "ei.fit(X, simulated_vote_fraction, N)"
   ]
  },
  {
   "cell_type": "code",
   "execution_count": null,
   "metadata": {},
   "outputs": [],
   "source": [
    "ei.plot()"
   ]
  },
  {
   "cell_type": "code",
   "execution_count": null,
   "metadata": {},
   "outputs": [],
   "source": [
    "# compute true district-level voting preferences\n",
    "voting_pref_gp1 = (prior_pred_for_simulation['b_1'][sample_num,:] * N).sum() / N.sum()\n",
    "voting_pref_gp2 = (prior_pred_for_simulation['b_2'][sample_num,:] * N).sum() / N.sum()\n",
    "print(voting_pref_gp1, voting_pref_gp2)"
   ]
  },
  {
   "cell_type": "code",
   "execution_count": null,
   "metadata": {},
   "outputs": [],
   "source": [
    "print(ei.summary())"
   ]
  },
  {
   "cell_type": "code",
   "execution_count": null,
   "metadata": {},
   "outputs": [],
   "source": [
    "# we can compare the inferred betas to the actual ones\n",
    "prior_pred_for_simulation['b_1'][sample_num,:] #actual\n",
    "b_1_posterior_means, b_2_posterior_means, b_1_credible_ints, b_2_credible_ints = ei.precinct_level_estimates() # inferred\n",
    "b_1_int_lower = [x[0] for x in b_1_credible_ints]\n",
    "b_1_int_upper = [x[1] for x in b_1_credible_ints]\n",
    "import pandas as pd\n",
    "pd.DataFrame({'actual': prior_pred_for_simulation['b_1'][sample_num,:], 'inferred': b_1_posterior_means, '95% CI lower':b_1_int_lower, '95% CI upper':b_1_int_upper})"
   ]
  },
  {
   "cell_type": "code",
   "execution_count": null,
   "metadata": {},
   "outputs": [],
   "source": [
    "ei.precinct_level_plot()"
   ]
  }
 ],
 "metadata": {
  "kernelspec": {
   "display_name": "Python [conda env:ei] *",
   "language": "python",
   "name": "conda-env-ei-py"
  },
  "language_info": {
   "codemirror_mode": {
    "name": "ipython",
    "version": 3
   },
   "file_extension": ".py",
   "mimetype": "text/x-python",
   "name": "python",
   "nbconvert_exporter": "python",
   "pygments_lexer": "ipython3",
   "version": "3.8.5"
  }
 },
 "nbformat": 4,
 "nbformat_minor": 4
}
