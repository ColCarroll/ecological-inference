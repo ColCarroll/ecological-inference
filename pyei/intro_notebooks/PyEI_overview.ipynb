{
 "cells": [
  {
   "cell_type": "markdown",
   "id": "rural-conviction",
   "metadata": {},
   "source": [
    "# PyEI Overview\n",
    "\n",
    "Start here if you have some familiarity with ecological inference (EI), and want an overview of how to use PyEI and its main features.\n",
    "\n",
    "If you are new to ecological inference, the Introduction notebook might be a better place to start.\n",
    "\n",
    "For a more detailed gallery of plotting functionality, see the Plotting notebook.\n",
    "\n",
    "For information about model checking and model comparison, see the Model Checking notebook."
   ]
  },
  {
   "cell_type": "markdown",
   "id": "australian-penny",
   "metadata": {},
   "source": [
    "# Contents:\n",
    "\n",
    "- Loading data to use\n",
    "- Fitting a model for EI\n",
    "- Plotting overview\n",
    "- Reporting results overview\n",
    "- Accessing samples\n",
    "- Currently available models"
   ]
  },
  {
   "cell_type": "code",
   "execution_count": 1,
   "id": "future-algorithm",
   "metadata": {},
   "outputs": [],
   "source": [
    "import numpy as np\n",
    "import pymc3 as pm\n",
    "\n",
    "from pyei.data import Datasets\n",
    "from pyei.two_by_two import TwoByTwoEI\n",
    "from pyei.goodmans_er import GoodmansER\n",
    "from pyei.goodmans_er import GoodmansERBayes\n",
    "from pyei.r_by_c import RowByColumnEI"
   ]
  },
  {
   "cell_type": "markdown",
   "id": "revised-friend",
   "metadata": {},
   "source": [
    "# Loading data to use\n",
    "\n",
    "`PyEI` provides access to several example datasets for getting started. We can load the Santa Clara dataset, with its 42 precincts, and convert it to a DataFrame with `data = Datasets.Santa_Clara.to_dataframe().` We'll be passing various columns of this DataFrame to PyEI.\n",
    "\n",
    "Whether you are using an example data set or your own data, here is what you will need to pass to the various EI methods:\n",
    "\n",
    "   - A vector of length `num_precincts` giving the population of each precincts. Depending on your purposes and data, the appropriate measure of population may be CVAP, VAP, etc. Below we name this `precinct_pops`.\n",
    "   \n",
    "   - For 2 x 2 EI:\n",
    "      * A vector of length `num_precints` whose entries are each numbers between zero and 1 that give the fraction of the population of each precinct who belong to the demographic group of interest. Below we name this `group_fraction`.\n",
    "       * A vector of length `num_precincts` whose entries are each numbers beteween zero and 1 that give the fraction of voters in each precinct voting for the candidate of interest (or, if we are considering turnout, who voted at all). Below, we name this `votes_fraction`.\n",
    "       * Optionally: name of the candidate of interest, name group of interest, and/or names of precincts (will be used in PyEI's plotting and reporting).\n",
    "       \n",
    "   - For r x c EI:\n",
    "      * An array of shape r x `num_precints` whose entries are each numbers between zero and 1 that give the fraction of the population of each precinct who belong to each of the r demographic groups of interest (these fractions should sum to 1 for each precinct). Below we name this `group_fractions`.\n",
    "       * An array of shape c x `num_precincts` whose entries are each numbers beteween zero and 1 that give the fraction of voters in each precinct voting for each of c candidates of interest (or, if we are considering turnout, who voted or did not vote). Below, we name this `votes_fractions`.\n",
    "       * Optionally: A vector of length c giving the names of the candidates and a vector of length r giving the name of the demographic groups and/or names of precincts (will be used in PyEI's plotting and reporting)."
   ]
  },
  {
   "cell_type": "code",
   "execution_count": 2,
   "id": "cognitive-tennessee",
   "metadata": {},
   "outputs": [
    {
     "data": {
      "text/html": [
       "<div>\n",
       "<style scoped>\n",
       "    .dataframe tbody tr th:only-of-type {\n",
       "        vertical-align: middle;\n",
       "    }\n",
       "\n",
       "    .dataframe tbody tr th {\n",
       "        vertical-align: top;\n",
       "    }\n",
       "\n",
       "    .dataframe thead th {\n",
       "        text-align: right;\n",
       "    }\n",
       "</style>\n",
       "<table border=\"1\" class=\"dataframe\">\n",
       "  <thead>\n",
       "    <tr style=\"text-align: right;\">\n",
       "      <th></th>\n",
       "      <th>precinct</th>\n",
       "      <th>total_turnout</th>\n",
       "      <th>total2</th>\n",
       "      <th>pct_for_hardy2</th>\n",
       "      <th>pct_for_kolstad2</th>\n",
       "      <th>pct_for_nadeem2</th>\n",
       "      <th>total5</th>\n",
       "      <th>pct_for_caserta5</th>\n",
       "      <th>pct_not_caserta5</th>\n",
       "      <th>pct_for_lacoursiere5</th>\n",
       "      <th>...</th>\n",
       "      <th>pct_for_park5</th>\n",
       "      <th>pct_not_park5</th>\n",
       "      <th>pct_asian_vote</th>\n",
       "      <th>pct_asian_pop</th>\n",
       "      <th>pct_ind_vote</th>\n",
       "      <th>pct_ind_pop</th>\n",
       "      <th>pct_e_asian_vote</th>\n",
       "      <th>pct_e_asian_pop</th>\n",
       "      <th>pct_non_asian_vote</th>\n",
       "      <th>pct_non_asian_pop</th>\n",
       "    </tr>\n",
       "  </thead>\n",
       "  <tbody>\n",
       "    <tr>\n",
       "      <th>0</th>\n",
       "      <td>4201</td>\n",
       "      <td>712</td>\n",
       "      <td>658</td>\n",
       "      <td>0.246201</td>\n",
       "      <td>0.431611</td>\n",
       "      <td>0.322188</td>\n",
       "      <td>642</td>\n",
       "      <td>0.447041</td>\n",
       "      <td>0.552960</td>\n",
       "      <td>0.305296</td>\n",
       "      <td>...</td>\n",
       "      <td>0.247664</td>\n",
       "      <td>0.752336</td>\n",
       "      <td>0.054775</td>\n",
       "      <td>0.117369</td>\n",
       "      <td>0.008427</td>\n",
       "      <td>0.028632</td>\n",
       "      <td>0.046348</td>\n",
       "      <td>0.088736</td>\n",
       "      <td>0.945225</td>\n",
       "      <td>0.882631</td>\n",
       "    </tr>\n",
       "    <tr>\n",
       "      <th>1</th>\n",
       "      <td>4208</td>\n",
       "      <td>400</td>\n",
       "      <td>380</td>\n",
       "      <td>0.328947</td>\n",
       "      <td>0.431579</td>\n",
       "      <td>0.239474</td>\n",
       "      <td>379</td>\n",
       "      <td>0.456464</td>\n",
       "      <td>0.543536</td>\n",
       "      <td>0.192612</td>\n",
       "      <td>...</td>\n",
       "      <td>0.350923</td>\n",
       "      <td>0.649076</td>\n",
       "      <td>0.197500</td>\n",
       "      <td>0.214389</td>\n",
       "      <td>0.060000</td>\n",
       "      <td>0.075990</td>\n",
       "      <td>0.137500</td>\n",
       "      <td>0.138399</td>\n",
       "      <td>0.802500</td>\n",
       "      <td>0.785611</td>\n",
       "    </tr>\n",
       "    <tr>\n",
       "      <th>2</th>\n",
       "      <td>4211</td>\n",
       "      <td>609</td>\n",
       "      <td>549</td>\n",
       "      <td>0.251366</td>\n",
       "      <td>0.384335</td>\n",
       "      <td>0.364299</td>\n",
       "      <td>542</td>\n",
       "      <td>0.492620</td>\n",
       "      <td>0.507380</td>\n",
       "      <td>0.250922</td>\n",
       "      <td>...</td>\n",
       "      <td>0.256458</td>\n",
       "      <td>0.743542</td>\n",
       "      <td>0.123153</td>\n",
       "      <td>0.202214</td>\n",
       "      <td>0.042693</td>\n",
       "      <td>0.046066</td>\n",
       "      <td>0.080460</td>\n",
       "      <td>0.156147</td>\n",
       "      <td>0.876847</td>\n",
       "      <td>0.797786</td>\n",
       "    </tr>\n",
       "    <tr>\n",
       "      <th>3</th>\n",
       "      <td>4215</td>\n",
       "      <td>623</td>\n",
       "      <td>573</td>\n",
       "      <td>0.258290</td>\n",
       "      <td>0.371728</td>\n",
       "      <td>0.369982</td>\n",
       "      <td>558</td>\n",
       "      <td>0.431900</td>\n",
       "      <td>0.568100</td>\n",
       "      <td>0.344086</td>\n",
       "      <td>...</td>\n",
       "      <td>0.224014</td>\n",
       "      <td>0.775986</td>\n",
       "      <td>0.109149</td>\n",
       "      <td>0.162014</td>\n",
       "      <td>0.032103</td>\n",
       "      <td>0.040379</td>\n",
       "      <td>0.077047</td>\n",
       "      <td>0.121635</td>\n",
       "      <td>0.890851</td>\n",
       "      <td>0.837986</td>\n",
       "    </tr>\n",
       "    <tr>\n",
       "      <th>4</th>\n",
       "      <td>4217</td>\n",
       "      <td>399</td>\n",
       "      <td>359</td>\n",
       "      <td>0.281337</td>\n",
       "      <td>0.406685</td>\n",
       "      <td>0.311978</td>\n",
       "      <td>355</td>\n",
       "      <td>0.425352</td>\n",
       "      <td>0.574648</td>\n",
       "      <td>0.326761</td>\n",
       "      <td>...</td>\n",
       "      <td>0.247887</td>\n",
       "      <td>0.752113</td>\n",
       "      <td>0.142857</td>\n",
       "      <td>0.254478</td>\n",
       "      <td>0.027569</td>\n",
       "      <td>0.063619</td>\n",
       "      <td>0.115288</td>\n",
       "      <td>0.190859</td>\n",
       "      <td>0.857143</td>\n",
       "      <td>0.745522</td>\n",
       "    </tr>\n",
       "  </tbody>\n",
       "</table>\n",
       "<p>5 rows × 21 columns</p>\n",
       "</div>"
      ],
      "text/plain": [
       "   precinct  total_turnout  total2  pct_for_hardy2  pct_for_kolstad2  \\\n",
       "0      4201            712     658        0.246201          0.431611   \n",
       "1      4208            400     380        0.328947          0.431579   \n",
       "2      4211            609     549        0.251366          0.384335   \n",
       "3      4215            623     573        0.258290          0.371728   \n",
       "4      4217            399     359        0.281337          0.406685   \n",
       "\n",
       "   pct_for_nadeem2  total5  pct_for_caserta5  pct_not_caserta5  \\\n",
       "0         0.322188     642          0.447041          0.552960   \n",
       "1         0.239474     379          0.456464          0.543536   \n",
       "2         0.364299     542          0.492620          0.507380   \n",
       "3         0.369982     558          0.431900          0.568100   \n",
       "4         0.311978     355          0.425352          0.574648   \n",
       "\n",
       "   pct_for_lacoursiere5  ...  pct_for_park5  pct_not_park5  pct_asian_vote  \\\n",
       "0              0.305296  ...       0.247664       0.752336        0.054775   \n",
       "1              0.192612  ...       0.350923       0.649076        0.197500   \n",
       "2              0.250922  ...       0.256458       0.743542        0.123153   \n",
       "3              0.344086  ...       0.224014       0.775986        0.109149   \n",
       "4              0.326761  ...       0.247887       0.752113        0.142857   \n",
       "\n",
       "   pct_asian_pop  pct_ind_vote  pct_ind_pop  pct_e_asian_vote  \\\n",
       "0       0.117369      0.008427     0.028632          0.046348   \n",
       "1       0.214389      0.060000     0.075990          0.137500   \n",
       "2       0.202214      0.042693     0.046066          0.080460   \n",
       "3       0.162014      0.032103     0.040379          0.077047   \n",
       "4       0.254478      0.027569     0.063619          0.115288   \n",
       "\n",
       "   pct_e_asian_pop  pct_non_asian_vote  pct_non_asian_pop  \n",
       "0         0.088736            0.945225           0.882631  \n",
       "1         0.138399            0.802500           0.785611  \n",
       "2         0.156147            0.876847           0.797786  \n",
       "3         0.121635            0.890851           0.837986  \n",
       "4         0.190859            0.857143           0.745522  \n",
       "\n",
       "[5 rows x 21 columns]"
      ]
     },
     "execution_count": 2,
     "metadata": {},
     "output_type": "execute_result"
    }
   ],
   "source": [
    "# Example 2x2 data\n",
    "santa_clara_data = Datasets.Santa_Clara.to_dataframe()\n",
    "\n",
    "group_fraction_2by2 = np.array(santa_clara_data[\"pct_e_asian_vote\"])\n",
    "votes_fraction_2by2 = np.array(santa_clara_data[\"pct_for_hardy2\"])\n",
    "precinct_pops = np.array(santa_clara_data[\"total2\"])\n",
    "\n",
    "demographic_group_name_2by2 = \"e_asian\"\n",
    "candidate_name_2by2 = \"Hardy\"\n",
    "precinct_names = santa_clara_data['precinct']\n",
    "\n",
    "santa_clara_data.head()"
   ]
  },
  {
   "cell_type": "code",
   "execution_count": 3,
   "id": "shaped-marketplace",
   "metadata": {},
   "outputs": [],
   "source": [
    "# Example rxc data (here r=c=3)\n",
    "santa_clara_data = Datasets.Santa_Clara.to_dataframe() # Same as 2x2 example\n",
    "\n",
    "group_fractions_rbyc = np.array(santa_clara_data[['pct_ind_vote', 'pct_e_asian_vote', 'pct_non_asian_vote']]).T\n",
    "votes_fractions_rbyc = np.array(santa_clara_data[['pct_for_hardy2', 'pct_for_kolstad2', 'pct_for_nadeem2']]).T\n",
    "precinct_names = santa_clara_data['precinct'] # Same as 2x2 example\n",
    "\n",
    "candidate_names_rbyc = [\"Hardy\", \"Kolstad\", \"Nadeem\"]\n",
    "demographic_group_names_rbyc = [\"ind\", \"e_asian\", \"non_asian\"]\n",
    "precinct_pops = np.array(santa_clara_data['total2']) # Same as 2x2 example"
   ]
  },
  {
   "cell_type": "markdown",
   "id": "spectacular-devil",
   "metadata": {},
   "source": [
    "# Fitting a model for EI\n",
    "\n",
    "We fit most models by first creating a `TwoByTwoEI`, `RowByColumnEI` or object, which is initialized with a (required) model name that is chosen among the supported models and (if desired) the applicable model parameters, then calling its `fit` method, with the relevant data as arguments. We can also, optionally, pass arguments to specify sampling choices like the number of MCMC draws\n",
    "\n",
    "We fit a Goodman's ecological regression model by creating a `GoodmanER` or `GoodmanERBayes` object and then calling its fit method."
   ]
  },
  {
   "cell_type": "code",
   "execution_count": 4,
   "id": "supported-arabic",
   "metadata": {},
   "outputs": [
    {
     "name": "stderr",
     "output_type": "stream",
     "text": [
      "Auto-assigning NUTS sampler...\n",
      "Initializing NUTS using jitter+adapt_diag...\n",
      "Multiprocess sampling (4 chains in 4 jobs)\n",
      "NUTS: [b_2, b_1, kappa_2, phi_2, kappa_1, phi_1]\n"
     ]
    },
    {
     "data": {
      "text/html": [
       "\n",
       "    <div>\n",
       "        <style>\n",
       "            /* Turns off some styling */\n",
       "            progress {\n",
       "                /* gets rid of default border in Firefox and Opera. */\n",
       "                border: none;\n",
       "                /* Needs to be in here for Safari polyfill so background images work as expected. */\n",
       "                background-size: auto;\n",
       "            }\n",
       "            .progress-bar-interrupted, .progress-bar-interrupted::-webkit-progress-bar {\n",
       "                background: #F44336;\n",
       "            }\n",
       "        </style>\n",
       "      <progress value='16800' class='' max='16800' style='width:300px; height:20px; vertical-align: middle;'></progress>\n",
       "      100.00% [16800/16800 00:53<00:00 Sampling 4 chains, 2 divergences]\n",
       "    </div>\n",
       "    "
      ],
      "text/plain": [
       "<IPython.core.display.HTML object>"
      ]
     },
     "metadata": {},
     "output_type": "display_data"
    },
    {
     "name": "stderr",
     "output_type": "stream",
     "text": [
      "Sampling 4 chains for 3_000 tune and 1_200 draw iterations (12_000 + 4_800 draws total) took 72 seconds.\n",
      "There was 1 divergence after tuning. Increase `target_accept` or reparameterize.\n",
      "There was 1 divergence after tuning. Increase `target_accept` or reparameterize.\n",
      "The estimated number of effective samples is smaller than 200 for some parameters.\n"
     ]
    },
    {
     "name": "stdout",
     "output_type": "stream",
     "text": [
      "Model: king99_pareto_modification\n",
      "        Computed from the raw b_i samples by multiplying by population and then getting\n",
      "        the proportion of the total pop (total pop=summed across all districts):\n",
      "        The posterior mean for the district-level voting preference of\n",
      "        e_asian for Hardy is\n",
      "        0.802\n",
      "        The posterior mean for the district-level voting preference of\n",
      "        non-e_asian for Hardy is\n",
      "        0.246\n",
      "        95% Bayesian credible interval for district-level voting preference of\n",
      "        e_asian for Hardy is\n",
      "        [0.61905246 0.94373712]\n",
      "        95% Bayesian credible interval for district-level voting preference of\n",
      "        non-e_asian for Hardy is\n",
      "        [0.22056727 0.27570893]\n",
      "        \n"
     ]
    }
   ],
   "source": [
    "# Fitting a first 2 x 2 model\n",
    "\n",
    "# Create a TwobyTwoEI object\n",
    "ei_2by2 = TwoByTwoEI(model_name=\"king99_pareto_modification\", pareto_scale=8, pareto_shape=2)\n",
    "\n",
    "# Fit the model\n",
    "ei_2by2.fit(group_fraction_2by2, \n",
    "       votes_fraction_2by2, \n",
    "       precinct_pops, \n",
    "       demographic_group_name=demographic_group_name_2by2, \n",
    "       candidate_name=candidate_name_2by2, \n",
    "       precinct_names=precinct_names, \n",
    "       draws=1200, # optional\n",
    "       tune=3000, # optional\n",
    "       target_accept=.99# optional\n",
    ")\n",
    "\n",
    "# Generate a simple report to summarize the results\n",
    "print(ei_2by2.summary())"
   ]
  },
  {
   "cell_type": "code",
   "execution_count": 5,
   "id": "enclosed-dairy",
   "metadata": {},
   "outputs": [
    {
     "name": "stdout",
     "output_type": "stream",
     "text": [
      "r = 3 rows (demographic groups)\n",
      "c = 3 columns (candidates or voting outcomes)\n",
      "number of precincts = 42\n"
     ]
    },
    {
     "name": "stderr",
     "output_type": "stream",
     "text": [
      "Auto-assigning NUTS sampler...\n",
      "Initializing NUTS using jitter+adapt_diag...\n",
      "Multiprocess sampling (4 chains in 4 jobs)\n",
      "NUTS: [b, phi, kappa]\n"
     ]
    },
    {
     "data": {
      "text/html": [
       "\n",
       "    <div>\n",
       "        <style>\n",
       "            /* Turns off some styling */\n",
       "            progress {\n",
       "                /* gets rid of default border in Firefox and Opera. */\n",
       "                border: none;\n",
       "                /* Needs to be in here for Safari polyfill so background images work as expected. */\n",
       "                background-size: auto;\n",
       "            }\n",
       "            .progress-bar-interrupted, .progress-bar-interrupted::-webkit-progress-bar {\n",
       "                background: #F44336;\n",
       "            }\n",
       "        </style>\n",
       "      <progress value='10000' class='' max='10000' style='width:300px; height:20px; vertical-align: middle;'></progress>\n",
       "      100.00% [10000/10000 02:33<00:00 Sampling 4 chains, 23 divergences]\n",
       "    </div>\n",
       "    "
      ],
      "text/plain": [
       "<IPython.core.display.HTML object>"
      ]
     },
     "metadata": {},
     "output_type": "display_data"
    },
    {
     "name": "stderr",
     "output_type": "stream",
     "text": [
      "Sampling 4 chains for 1_500 tune and 1_000 draw iterations (6_000 + 4_000 draws total) took 168 seconds.\n",
      "There were 23 divergences after tuning. Increase `target_accept` or reparameterize.\n",
      "The rhat statistic is larger than 1.2 for some parameters.\n",
      "The estimated number of effective samples is smaller than 200 for some parameters.\n"
     ]
    },
    {
     "name": "stdout",
     "output_type": "stream",
     "text": [
      "\n",
      "            Computed from the raw b_ samples by multiplying by population and then \n",
      "            getting the proportion of the total pop \n",
      "            (total pop=summed across all districts):\n",
      "            The posterior mean for the district-level voting preference of\n",
      "                ind for Hardy is\n",
      "                0.145\n",
      "                Credible interval:  [0.01836677 0.4302292 ]\n",
      "                The posterior mean for the district-level voting preference of\n",
      "                ind for Kolstad is\n",
      "                0.154\n",
      "                Credible interval:  [0.01841693 0.4376349 ]\n",
      "                The posterior mean for the district-level voting preference of\n",
      "                ind for Nadeem is\n",
      "                0.701\n",
      "                Credible interval:  [0.36908766 0.9231982 ]\n",
      "                The posterior mean for the district-level voting preference of\n",
      "                e_asian for Hardy is\n",
      "                0.766\n",
      "                Credible interval:  [0.5989404  0.93530768]\n",
      "                The posterior mean for the district-level voting preference of\n",
      "                e_asian for Kolstad is\n",
      "                0.173\n",
      "                Credible interval:  [0.04122619 0.34499181]\n",
      "                The posterior mean for the district-level voting preference of\n",
      "                e_asian for Nadeem is\n",
      "                0.061\n",
      "                Credible interval:  [0.0041813  0.17424693]\n",
      "                The posterior mean for the district-level voting preference of\n",
      "                non_asian for Hardy is\n",
      "                0.258\n",
      "                Credible interval:  [0.2276075  0.28783169]\n",
      "                The posterior mean for the district-level voting preference of\n",
      "                non_asian for Kolstad is\n",
      "                0.436\n",
      "                Credible interval:  [0.40423786 0.46444205]\n",
      "                The posterior mean for the district-level voting preference of\n",
      "                non_asian for Nadeem is\n",
      "                0.306\n",
      "                Credible interval:  [0.28516472 0.32585701]\n",
      "                \n"
     ]
    }
   ],
   "source": [
    "# Fitting a first r x c model\n",
    "\n",
    "# Create a RowByColumnEI object\n",
    "ei_rbyc = RowByColumnEI(model_name='multinomial-dirichlet-modified', pareto_shape=100, pareto_scale=100)\n",
    "\n",
    "# Fit the model\n",
    "ei_rbyc.fit(group_fractions_rbyc, \n",
    "       votes_fractions_rbyc, \n",
    "       precinct_pops, \n",
    "       demographic_group_names=demographic_group_names_rbyc, \n",
    "       candidate_names=candidate_names_rbyc, \n",
    "       #precinct_names=precinct_names, \n",
    ")\n",
    "\n",
    "# Generate a simple report to summarize the results\n",
    "print(ei_rbyc.summary())"
   ]
  },
  {
   "cell_type": "code",
   "execution_count": 6,
   "id": "dried-range",
   "metadata": {},
   "outputs": [
    {
     "name": "stdout",
     "output_type": "stream",
     "text": [
      "Goodmans ER\n",
      "        Est. fraction of e_asian\n",
      "        voters who voted for Hardy is\n",
      "        0.862\n",
      "        Est. fraction of non- e_asian\n",
      "        voters who voted for Hardy is\n",
      "        0.239\n",
      "        \n",
      "Goodmans ER, weighted by population\n",
      "        Est. fraction of e_asian\n",
      "        voters who voted for Hardy is\n",
      "        0.865\n",
      "        Est. fraction of non- e_asian\n",
      "        voters who voted for Hardy is\n",
      "        0.236\n",
      "        \n"
     ]
    }
   ],
   "source": [
    "# Fitting Goodman's ER - precincts not weighted by population\n",
    "\n",
    "# Create a GoodmansER object\n",
    "goodmans_er = GoodmansER() \n",
    "\n",
    "# Fit the model\n",
    "goodmans_er.fit(\n",
    "    group_fraction_2by2, \n",
    "    votes_fraction_2by2,\n",
    "    demographic_group_name=demographic_group_name_2by2, \n",
    "    candidate_name=candidate_name_2by2\n",
    ")\n",
    "\n",
    "# Generate a simple report to summarize the results\n",
    "print(goodmans_er.summary())\n",
    "\n",
    "# Fitting Goodman's ER - precincts weighted by population\n",
    "goodmans_er = GoodmansER(is_weighted_regression=\"True\")\n",
    "\n",
    "goodmans_er.fit(group_fraction_2by2, \n",
    "    votes_fraction_2by2,\n",
    "    precinct_pops, # Must include populations if weighting by population\n",
    "    demographic_group_name=demographic_group_name_2by2, \n",
    "    candidate_name=candidate_name_2by2\n",
    ")\n",
    "\n",
    "print(goodmans_er.summary())"
   ]
  },
  {
   "cell_type": "code",
   "execution_count": 7,
   "id": "reduced-jimmy",
   "metadata": {},
   "outputs": [
    {
     "name": "stderr",
     "output_type": "stream",
     "text": [
      "Auto-assigning NUTS sampler...\n",
      "Initializing NUTS using jitter+adapt_diag...\n",
      "Multiprocess sampling (4 chains in 4 jobs)\n",
      "NUTS: [eps, b_2, b_1]\n"
     ]
    },
    {
     "data": {
      "text/html": [
       "\n",
       "    <div>\n",
       "        <style>\n",
       "            /* Turns off some styling */\n",
       "            progress {\n",
       "                /* gets rid of default border in Firefox and Opera. */\n",
       "                border: none;\n",
       "                /* Needs to be in here for Safari polyfill so background images work as expected. */\n",
       "                background-size: auto;\n",
       "            }\n",
       "            .progress-bar-interrupted, .progress-bar-interrupted::-webkit-progress-bar {\n",
       "                background: #F44336;\n",
       "            }\n",
       "        </style>\n",
       "      <progress value='8000' class='' max='8000' style='width:300px; height:20px; vertical-align: middle;'></progress>\n",
       "      100.00% [8000/8000 00:07<00:00 Sampling 4 chains, 0 divergences]\n",
       "    </div>\n",
       "    "
      ],
      "text/plain": [
       "<IPython.core.display.HTML object>"
      ]
     },
     "metadata": {},
     "output_type": "display_data"
    },
    {
     "name": "stderr",
     "output_type": "stream",
     "text": [
      "Sampling 4 chains for 1_000 tune and 1_000 draw iterations (4_000 + 4_000 draws total) took 23 seconds.\n"
     ]
    }
   ],
   "source": [
    "# Fitting Goodman's ER - Bayesian variant with priors over the intercepts with x=0 and x=1\n",
    "\n",
    "bayes_goodman_ei = GoodmansERBayes(\"goodman_er_bayes\", weighted_by_pop=True, sigma=1)\n",
    "\n",
    "bayes_goodman_ei.fit(\n",
    "    group_fraction_2by2, \n",
    "    votes_fraction_2by2,\n",
    "    precinct_pops,\n",
    "    demographic_group_name=demographic_group_name_2by2, \n",
    "    candidate_name=candidate_name_2by2\n",
    ")\n"
   ]
  },
  {
   "cell_type": "markdown",
   "id": "historical-brush",
   "metadata": {},
   "source": [
    "# Plotting overview\n",
    "\n",
    "PyEI has a number of plots available. Here is a list of available plots.\n",
    "\n",
    "Plotting methods for any fitted EI model where inference involves sampling -- i.e. all approaches excepts the (non-Bayesian) Goodman's ER\n",
    "\n",
    "- Summary plots for distributions of polity-wide voter preferences\n",
    "    - `plot`\n",
    "    - `plot_kde` (2 by 2)\n",
    "    - `plot_kdes` (r by c)\n",
    "    - `plot_boxplot` (2 by 2)\n",
    "    - `plot_boxplots` (r by c)\n",
    "    - `plot_intervals` (2 by 2)\n",
    "\n",
    "- Plots of polarization\n",
    "    - `plot_polarization_kde` (2 by 2)\n",
    "    - `plot_polarization_kdes` (r by c)\n",
    "\n",
    "For all approaches except Goodman's ER and the Bayesian Goodman's ER (which do not generate samples for each precinct)\n",
    "\n",
    "- Plots of **precinct-level** voter preferences\n",
    "    - `precinct_level_plot`\n",
    "    - `plot_intervals_by_precinct`\n",
    "        \n",
    "\n",
    "`GoodmansER` objects also have a plot method\n",
    "- `plot`\n",
    "\n",
    "Additional plotting utilities: for tomography plotting and comparing precinct-level posterior means:\n",
    "\n",
    "- `plot_utils.tomography_plot`\n",
    "- `plot_precinct_scatterplot`\n",
    "\n",
    "Here we only display a few of these plots as examples. A more detailed look at the plotting and reporting functionality, see the Plotting and Reporting notebook."
   ]
  },
  {
   "cell_type": "code",
   "execution_count": 8,
   "id": "artificial-scott",
   "metadata": {},
   "outputs": [
    {
     "data": {
      "text/plain": [
       "(<AxesSubplot:>, <AxesSubplot:xlabel='Support for Hardy', ylabel='Density'>)"
      ]
     },
     "execution_count": 8,
     "metadata": {},
     "output_type": "execute_result"
    },
    {
     "data": {
      "image/png": "[encoded data removed]",
      "text/plain": [
       "<Figure size 864x460.8 with 2 Axes>"
      ]
     },
     "metadata": {
      "needs_background": "light"
     },
     "output_type": "display_data"
    }
   ],
   "source": [
    "ei_2by2.plot()"
   ]
  },
  {
   "cell_type": "code",
   "execution_count": 9,
   "id": "allied-constraint",
   "metadata": {},
   "outputs": [
    {
     "data": {
      "text/plain": [
       "(<Figure size 432x288 with 1 Axes>,\n",
       " <AxesSubplot:xlabel='Fraction in group e_asian', ylabel='Fraction voting for Hardy'>)"
      ]
     },
     "execution_count": 9,
     "metadata": {},
     "output_type": "execute_result"
    },
    {
     "data": {
      "image/png": "[encoded data removed]",
      "text/plain": [
       "<Figure size 432x288 with 1 Axes>"
      ]
     },
     "metadata": {
      "needs_background": "light"
     },
     "output_type": "display_data"
    }
   ],
   "source": [
    "goodmans_er.plot()"
   ]
  },
  {
   "cell_type": "code",
   "execution_count": 46,
   "id": "informed-martial",
   "metadata": {},
   "outputs": [
    {
     "data": {
      "text/plain": [
       "<AxesSubplot:title={'center':'Support for Nadeem'}, ylabel='Density'>"
      ]
     },
     "execution_count": 46,
     "metadata": {},
     "output_type": "execute_result"
    },
    {
     "data": {
      "image/png": "[encoded data removed]",
      "text/plain": [
       "<Figure size 432x288 with 3 Axes>"
      ]
     },
     "metadata": {
      "needs_background": "light"
     },
     "output_type": "display_data"
    }
   ],
   "source": [
    "ei_rbyc.plot_kdes(plot_by=\"candidate\") # or, plot_by=\"group\""
   ]
  },
  {
   "cell_type": "code",
   "execution_count": 61,
   "id": "stuck-utility",
   "metadata": {},
   "outputs": [
    {
     "data": {
      "text/plain": [
       "<AxesSubplot:title={'center':'Difference in voter preference for Hardy: e_asian - non-e_asian'}, ylabel='Density'>"
      ]
     },
     "execution_count": 61,
     "metadata": {},
     "output_type": "execute_result"
    },
    {
     "data": {
      "image/png": "[encoded data removed]",
      "text/plain": [
       "<Figure size 432x288 with 1 Axes>"
      ]
     },
     "metadata": {
      "needs_background": "light"
     },
     "output_type": "display_data"
    }
   ],
   "source": [
    "ei_2by2.plot_polarization_kde(percentile=95, show_threshold=True) #set show_threshold to false to just view the kde"
   ]
  },
  {
   "cell_type": "code",
   "execution_count": 12,
   "id": "boring-diagram",
   "metadata": {},
   "outputs": [
    {
     "data": {
      "text/plain": [
       "<AxesSubplot:title={'center':'Precinct level estimates of voting preferences'}, xlabel='Percent vote for candidate', ylabel='Precinct'>"
      ]
     },
     "execution_count": 12,
     "metadata": {},
     "output_type": "execute_result"
    },
    {
     "data": {
      "image/png": "[encoded data removed]",
      "text/plain": [
       "<Figure size 460.8x676.8 with 1 Axes>"
      ]
     },
     "metadata": {
      "needs_background": "light"
     },
     "output_type": "display_data"
    }
   ],
   "source": [
    "ei_2by2.precinct_level_plot()"
   ]
  },
  {
   "cell_type": "markdown",
   "id": "optimum-potter",
   "metadata": {},
   "source": [
    "# Reporting results overview\n",
    "\n",
    "See below for examples of how to access/report:\n",
    "- polity-wide posterior means and credible intervals of voter preferences\n",
    "- Precinct-level posterior means and credible intervals of voter preferences\n",
    "- information about polarization"
   ]
  },
  {
   "cell_type": "markdown",
   "id": "surprising-convertible",
   "metadata": {},
   "source": [
    "**Polity-wide posterior means and credible intervals of voter preferences:**"
   ]
  },
  {
   "cell_type": "code",
   "execution_count": 58,
   "id": "assisted-inspection",
   "metadata": {},
   "outputs": [
    {
     "name": "stdout",
     "output_type": "stream",
     "text": [
      "Model: king99_pareto_modification\n",
      "        Computed from the raw b_i samples by multiplying by population and then getting\n",
      "        the proportion of the total pop (total pop=summed across all districts):\n",
      "        The posterior mean for the district-level voting preference of\n",
      "        e_asian for Hardy is\n",
      "        0.802\n",
      "        The posterior mean for the district-level voting preference of\n",
      "        non-e_asian for Hardy is\n",
      "        0.246\n",
      "        95% Bayesian credible interval for district-level voting preference of\n",
      "        e_asian for Hardy is\n",
      "        [0.61905246 0.94373712]\n",
      "        95% Bayesian credible interval for district-level voting preference of\n",
      "        non-e_asian for Hardy is\n",
      "        [0.22056727 0.27570893]\n",
      "        \n"
     ]
    }
   ],
   "source": [
    "# EI objects have a summary method that gives a report\n",
    "print(ei_2by2.summary()) \n",
    "\n",
    "# Can also use for r x c\n",
    "#print(ei_rbyc.summary())\n",
    "\n",
    "# Can also use for BayesGoodmansER\n",
    "#print(bayes_goodman_ei.summary())\n",
    "\n",
    "# Note: Goodman's ER also has a summary function, although it just gives point esimates\n",
    "#print(goodmans_er.summary())\n"
   ]
  },
  {
   "cell_type": "code",
   "execution_count": 14,
   "id": "organized-quebec",
   "metadata": {},
   "outputs": [
    {
     "name": "stdout",
     "output_type": "stream",
     "text": [
      "e_asian  support for  Hardy 0.8020873436169953\n",
      "non- e_asian  support for  Hardy 0.2455035773317814\n"
     ]
    }
   ],
   "source": [
    "posterior_mean_voting_prefs = ei_2by2.posterior_mean_voting_prefs\n",
    "print(demographic_group_name_2by2, \" support for \", candidate_name_2by2, posterior_mean_voting_prefs[0])\n",
    "print(\"non-\",demographic_group_name_2by2, \" support for \", candidate_name_2by2, posterior_mean_voting_prefs[1])"
   ]
  },
  {
   "cell_type": "code",
   "execution_count": 15,
   "id": "dynamic-symposium",
   "metadata": {},
   "outputs": [
    {
     "name": "stdout",
     "output_type": "stream",
     "text": [
      "e_asian  support for  Hardy [0.61905246 0.94373712]\n",
      "non- e_asian  support for  Hardy [0.22056727 0.27570893]\n"
     ]
    }
   ],
   "source": [
    "credible_interval_95_mean_voting_prefs = ei_2by2.credible_interval_95_mean_voting_prefs\n",
    "print(demographic_group_name_2by2, \" support for \", candidate_name_2by2, credible_interval_95_mean_voting_prefs[0])\n",
    "print(\"non-\", demographic_group_name_2by2, \" support for \", candidate_name_2by2, credible_interval_95_mean_voting_prefs[1])"
   ]
  },
  {
   "cell_type": "code",
   "execution_count": 59,
   "id": "hourly-pierce",
   "metadata": {},
   "outputs": [],
   "source": [
    "# Means and intervals for BayesGoodmanER estimates\n",
    "x_vals, means, lower_bounds, upper_bounds = bayes_goodman_ei.compute_credible_int_for_line()"
   ]
  },
  {
   "cell_type": "markdown",
   "id": "infinite-wallet",
   "metadata": {},
   "source": [
    "**Precinct-level posterior means and credible intervals**:"
   ]
  },
  {
   "cell_type": "code",
   "execution_count": 16,
   "id": "freelance-optimization",
   "metadata": {},
   "outputs": [
    {
     "name": "stdout",
     "output_type": "stream",
     "text": [
      "[0.79308143 0.8129292  0.77871147 0.78692741 0.78562609 0.77534988\n",
      " 0.80563896 0.79884058 0.77699945 0.81361601 0.86223284 0.84399697\n",
      " 0.85946933 0.77608013 0.84199516 0.76886714 0.84802538 0.88334404\n",
      " 0.80919258 0.84112017 0.81651784 0.83840547 0.76638393 0.83359458\n",
      " 0.8499873  0.83834234 0.79476335 0.86351798 0.80907727 0.81107156\n",
      " 0.79347497 0.68478351 0.7817561  0.8093004  0.79970145 0.84653083\n",
      " 0.75469397 0.69809951 0.81120035 0.65289151 0.81862698 0.83268743]\n"
     ]
    }
   ],
   "source": [
    "precinct_posterior_means_gp1, precinct_posterior_means_gp2, precinct_credible_intervals_gp1, precinct_credible_intervals_gp2 = ei_2by2.precinct_level_estimates()\n",
    "print(precinct_posterior_means_gp1)"
   ]
  },
  {
   "cell_type": "markdown",
   "id": "female-mining",
   "metadata": {},
   "source": [
    "**Polarization**"
   ]
  },
  {
   "cell_type": "code",
   "execution_count": 45,
   "id": "adult-nerve",
   "metadata": {},
   "outputs": [
    {
     "name": "stdout",
     "output_type": "stream",
     "text": [
      "There is a 95% probability that the difference between the groups' preferences for Hardy (e_asian - non-e_asian) is between [0.34, 0.72].\n",
      "(0.3440115985369003, 0.7216606702881286)\n"
     ]
    }
   ],
   "source": [
    "print(ei_2by2.polarization_report(percentile=95, reference_group=0, verbose=True))"
   ]
  },
  {
   "cell_type": "code",
   "execution_count": 43,
   "id": "prepared-cannon",
   "metadata": {},
   "outputs": [
    {
     "name": "stdout",
     "output_type": "stream",
     "text": [
      "There is a 100% probability that the difference between the groups' preferences for Hardy (e_asian -  non-e_asian) is more than 0.25.\n",
      "99.89583333333333\n"
     ]
    }
   ],
   "source": [
    "print(ei_2by2.polarization_report(threshold=0.25, reference_group=0, verbose=True))"
   ]
  },
  {
   "cell_type": "code",
   "execution_count": 44,
   "id": "gentle-forest",
   "metadata": {},
   "outputs": [
    {
     "data": {
      "text/plain": [
       "99.89583333333333"
      ]
     },
     "execution_count": 44,
     "metadata": {},
     "output_type": "execute_result"
    }
   ],
   "source": [
    "# set verbose=False to just show numerical value\n",
    "ei_2by2.polarization_report(threshold=0.25, reference_group=0, verbose=False) "
   ]
  },
  {
   "cell_type": "code",
   "execution_count": 50,
   "id": "concrete-framework",
   "metadata": {},
   "outputs": [
    {
     "name": "stdout",
     "output_type": "stream",
     "text": [
      "There is a 90% probability that the difference between the groups' preferences for Kolstad (ind - e_asian) is between [-0.22, 0.24].\n",
      "(-0.2199686503203126, 0.23754670761422977)\n"
     ]
    }
   ],
   "source": [
    "# For the r by c case, specify the groups you wish to compare and the candidate\n",
    "print(ei_rbyc.polarization_report(percentile=90, groups=['ind', 'e_asian'], candidate='Kolstad', verbose=True))"
   ]
  },
  {
   "cell_type": "markdown",
   "id": "fitting-stuart",
   "metadata": {},
   "source": [
    "# Accessing samples\n",
    "\n",
    "Most of the models that PyEI supports (although not Goodman's regression) are Bayesian models, and inference proceeds by using MCMC methods to sample from the posterior distributions of interest. Samples are accessible so that you can work with them directly if desired.\n",
    "\n",
    "We can use the `sampled_voting_prefs` property of a fitted EI object to access the samples of district-level voter prefernences of each group for each candidate, which are calculated by weighting each set of precinct-level samples by the population and summing.\n",
    "\n",
    "We can also access samples from the posterior distribution by accessing them by name from the fitted ei object's `sim_trace` property."
   ]
  },
  {
   "cell_type": "code",
   "execution_count": 19,
   "id": "western-principal",
   "metadata": {},
   "outputs": [
    {
     "data": {
      "text/plain": [
       "0.2455035773317814"
      ]
     },
     "execution_count": 19,
     "metadata": {},
     "output_type": "execute_result"
    }
   ],
   "source": [
    "# Using `sampled_voting_prefs`\n",
    "\n",
    "sampled_voting_prefs = ei_2by2.sampled_voting_prefs # ei.sampled_voting_prefs is samples of district-level voter preference: list of length 2\n",
    "sampled_voting_prefs[0] #samples of district-wide support of specified group for specified candidate\n",
    "sampled_voting_prefs[1] #samples of district-wide support of (complement of specified group) for specified candidate\n",
    "sampled_voting_prefs[0].mean() #posterior mean\n",
    "sampled_voting_prefs[1].mean() #posterior mean"
   ]
  },
  {
   "cell_type": "code",
   "execution_count": 27,
   "id": "enhanced-broadway",
   "metadata": {},
   "outputs": [
    {
     "data": {
      "text/plain": [
       "array([[101.15259218, 100.4726975 , 100.41494703],\n",
       "       [100.31634001, 100.82516522, 101.5248737 ],\n",
       "       [100.74903894, 101.22976928, 102.66427651],\n",
       "       ...,\n",
       "       [100.09589072, 100.7724436 , 100.12013215],\n",
       "       [101.25033649, 100.99880665, 103.60483416],\n",
       "       [100.55594468, 100.49789259, 100.42309515]])"
      ]
     },
     "execution_count": 27,
     "metadata": {},
     "output_type": "execute_result"
    }
   ],
   "source": [
    "# By name of parameters, using the fitted ei object's `sim_trace` property.\n",
    "\n",
    "# Shape is: num_samples x (dimensionality of parameter)\n",
    "ei_2by2.sim_trace['b_1']\n",
    "\n",
    "# Shape is: num_samples x (dimensionality of parameter)\n",
    "ei_rbyc.sim_trace['kappa']"
   ]
  },
  {
   "cell_type": "markdown",
   "id": "reported-carol",
   "metadata": {},
   "source": [
    "# Currently supported models - quick reference\n",
    "\n",
    "The names of currently supported models are as follows:\n",
    "\n",
    "- TwoByTwoEI\n",
    "    * `king99`\n",
    "    * `king99_pareto_modification`\n",
    "    * `wakefield_beta`\n",
    "    * `wakefield_normal`\n",
    "    * `truncated_normal`\n",
    "    \n",
    "- RowByColumnEI\n",
    "    * `multinomial-dirichlet`\n",
    "    * `multinomial-dirichlet-modified`\n",
    "    \n",
    "- GoodmansER\n",
    "    * `is_weighted_regression=False` (not weighted by precinct populations)\n",
    "    * `is_weighted_regression=True` (weighted by precinct populations)\n",
    "  \n",
    "- GoodmansERBayes\n",
    "\n",
    "Using pymc3's `model_to_graphviz` function is a nice way to visualize the Bayesian models."
   ]
  },
  {
   "cell_type": "code",
   "execution_count": 21,
   "id": "breeding-parks",
   "metadata": {},
   "outputs": [
    {
     "data": {
      "image/svg+xml": [
       "<?xml version=\"1.0\" encoding=\"UTF-8\" standalone=\"no\"?>\n",
       "<!DOCTYPE svg PUBLIC \"-//W3C//DTD SVG 1.1//EN\"\n",
       " \"http://www.w3.org/Graphics/SVG/1.1/DTD/svg11.dtd\">\n",
       "<!-- Generated by graphviz version 2.40.1 (20161225.0304)\n",
       " -->\n",
       "<!-- Title: %3 Pages: 1 -->\n",
       "<svg width=\"423pt\" height=\"330pt\"\n",
       " viewBox=\"0.00 0.00 422.81 330.13\" xmlns=\"http://www.w3.org/2000/svg\" xmlns:xlink=\"http://www.w3.org/1999/xlink\">\n",
       "<g id=\"graph0\" class=\"graph\" transform=\"scale(1 1) rotate(0) translate(4 326.132)\">\n",
       "<title>%3</title>\n",
       "<polygon fill=\"#ffffff\" stroke=\"transparent\" points=\"-4,4 -4,-326.132 418.8121,-326.132 418.8121,4 -4,4\"/>\n",
       "<g id=\"clust1\" class=\"cluster\">\n",
       "<title>cluster42</title>\n",
       "<path fill=\"none\" stroke=\"#000000\" d=\"M143.4061,-8C143.4061,-8 270.4061,-8 270.4061,-8 276.4061,-8 282.4061,-14 282.4061,-20 282.4061,-20 282.4061,-211.4214 282.4061,-211.4214 282.4061,-217.4214 276.4061,-223.4214 270.4061,-223.4214 270.4061,-223.4214 143.4061,-223.4214 143.4061,-223.4214 137.4061,-223.4214 131.4061,-217.4214 131.4061,-211.4214 131.4061,-211.4214 131.4061,-20 131.4061,-20 131.4061,-14 137.4061,-8 143.4061,-8\"/>\n",
       "<text text-anchor=\"middle\" x=\"267.4061\" y=\"-14.8\" font-family=\"Times,serif\" font-size=\"14.00\" fill=\"#000000\">42</text>\n",
       "</g>\n",
       "<!-- phi_2 -->\n",
       "<g id=\"node1\" class=\"node\">\n",
       "<title>phi_2</title>\n",
       "<ellipse fill=\"none\" stroke=\"#000000\" cx=\"45.4061\" cy=\"-286.7767\" rx=\"45.3123\" ry=\"35.2113\"/>\n",
       "<text text-anchor=\"middle\" x=\"45.4061\" y=\"-296.5767\" font-family=\"Times,serif\" font-size=\"14.00\" fill=\"#000000\">phi_2</text>\n",
       "<text text-anchor=\"middle\" x=\"45.4061\" y=\"-282.5767\" font-family=\"Times,serif\" font-size=\"14.00\" fill=\"#000000\">~</text>\n",
       "<text text-anchor=\"middle\" x=\"45.4061\" y=\"-268.5767\" font-family=\"Times,serif\" font-size=\"14.00\" fill=\"#000000\">Uniform</text>\n",
       "</g>\n",
       "<!-- b_2 -->\n",
       "<g id=\"node6\" class=\"node\">\n",
       "<title>b_2</title>\n",
       "<ellipse fill=\"none\" stroke=\"#000000\" cx=\"168.4061\" cy=\"-180.066\" rx=\"29.4095\" ry=\"35.2113\"/>\n",
       "<text text-anchor=\"middle\" x=\"168.4061\" y=\"-189.866\" font-family=\"Times,serif\" font-size=\"14.00\" fill=\"#000000\">b_2</text>\n",
       "<text text-anchor=\"middle\" x=\"168.4061\" y=\"-175.866\" font-family=\"Times,serif\" font-size=\"14.00\" fill=\"#000000\">~</text>\n",
       "<text text-anchor=\"middle\" x=\"168.4061\" y=\"-161.866\" font-family=\"Times,serif\" font-size=\"14.00\" fill=\"#000000\">Beta</text>\n",
       "</g>\n",
       "<!-- phi_2&#45;&gt;b_2 -->\n",
       "<g id=\"edge4\" class=\"edge\">\n",
       "<title>phi_2&#45;&gt;b_2</title>\n",
       "<path fill=\"none\" stroke=\"#000000\" d=\"M75.8106,-260.3988C94.3604,-244.3056 118.0321,-223.7688 136.7976,-207.4885\"/>\n",
       "<polygon fill=\"#000000\" stroke=\"#000000\" points=\"139.2504,-209.9941 144.5104,-200.7971 134.6632,-204.7066 139.2504,-209.9941\"/>\n",
       "</g>\n",
       "<!-- kappa_2 -->\n",
       "<g id=\"node2\" class=\"node\">\n",
       "<title>kappa_2</title>\n",
       "<ellipse fill=\"none\" stroke=\"#000000\" cx=\"153.4061\" cy=\"-286.7767\" rx=\"44.7009\" ry=\"35.2113\"/>\n",
       "<text text-anchor=\"middle\" x=\"153.4061\" y=\"-296.5767\" font-family=\"Times,serif\" font-size=\"14.00\" fill=\"#000000\">kappa_2</text>\n",
       "<text text-anchor=\"middle\" x=\"153.4061\" y=\"-282.5767\" font-family=\"Times,serif\" font-size=\"14.00\" fill=\"#000000\">~</text>\n",
       "<text text-anchor=\"middle\" x=\"153.4061\" y=\"-268.5767\" font-family=\"Times,serif\" font-size=\"14.00\" fill=\"#000000\">Pareto</text>\n",
       "</g>\n",
       "<!-- kappa_2&#45;&gt;b_2 -->\n",
       "<g id=\"edge3\" class=\"edge\">\n",
       "<title>kappa_2&#45;&gt;b_2</title>\n",
       "<path fill=\"none\" stroke=\"#000000\" d=\"M158.3592,-251.5399C159.5368,-243.1622 160.8095,-234.1082 162.0405,-225.3512\"/>\n",
       "<polygon fill=\"#000000\" stroke=\"#000000\" points=\"165.532,-225.6557 163.4581,-215.2658 158.6001,-224.6812 165.532,-225.6557\"/>\n",
       "</g>\n",
       "<!-- kappa_1 -->\n",
       "<g id=\"node3\" class=\"node\">\n",
       "<title>kappa_1</title>\n",
       "<ellipse fill=\"none\" stroke=\"#000000\" cx=\"261.4061\" cy=\"-286.7767\" rx=\"44.7009\" ry=\"35.2113\"/>\n",
       "<text text-anchor=\"middle\" x=\"261.4061\" y=\"-296.5767\" font-family=\"Times,serif\" font-size=\"14.00\" fill=\"#000000\">kappa_1</text>\n",
       "<text text-anchor=\"middle\" x=\"261.4061\" y=\"-282.5767\" font-family=\"Times,serif\" font-size=\"14.00\" fill=\"#000000\">~</text>\n",
       "<text text-anchor=\"middle\" x=\"261.4061\" y=\"-268.5767\" font-family=\"Times,serif\" font-size=\"14.00\" fill=\"#000000\">Pareto</text>\n",
       "</g>\n",
       "<!-- b_1 -->\n",
       "<g id=\"node7\" class=\"node\">\n",
       "<title>b_1</title>\n",
       "<ellipse fill=\"none\" stroke=\"#000000\" cx=\"245.4061\" cy=\"-180.066\" rx=\"29.4095\" ry=\"35.2113\"/>\n",
       "<text text-anchor=\"middle\" x=\"245.4061\" y=\"-189.866\" font-family=\"Times,serif\" font-size=\"14.00\" fill=\"#000000\">b_1</text>\n",
       "<text text-anchor=\"middle\" x=\"245.4061\" y=\"-175.866\" font-family=\"Times,serif\" font-size=\"14.00\" fill=\"#000000\">~</text>\n",
       "<text text-anchor=\"middle\" x=\"245.4061\" y=\"-161.866\" font-family=\"Times,serif\" font-size=\"14.00\" fill=\"#000000\">Beta</text>\n",
       "</g>\n",
       "<!-- kappa_1&#45;&gt;b_1 -->\n",
       "<g id=\"edge1\" class=\"edge\">\n",
       "<title>kappa_1&#45;&gt;b_1</title>\n",
       "<path fill=\"none\" stroke=\"#000000\" d=\"M256.1227,-251.5399C254.8535,-243.0749 253.4808,-233.9195 252.155,-225.0776\"/>\n",
       "<polygon fill=\"#000000\" stroke=\"#000000\" points=\"255.5735,-224.2725 250.6293,-214.9021 248.6509,-225.3106 255.5735,-224.2725\"/>\n",
       "</g>\n",
       "<!-- phi_1 -->\n",
       "<g id=\"node4\" class=\"node\">\n",
       "<title>phi_1</title>\n",
       "<ellipse fill=\"none\" stroke=\"#000000\" cx=\"369.4061\" cy=\"-286.7767\" rx=\"45.3123\" ry=\"35.2113\"/>\n",
       "<text text-anchor=\"middle\" x=\"369.4061\" y=\"-296.5767\" font-family=\"Times,serif\" font-size=\"14.00\" fill=\"#000000\">phi_1</text>\n",
       "<text text-anchor=\"middle\" x=\"369.4061\" y=\"-282.5767\" font-family=\"Times,serif\" font-size=\"14.00\" fill=\"#000000\">~</text>\n",
       "<text text-anchor=\"middle\" x=\"369.4061\" y=\"-268.5767\" font-family=\"Times,serif\" font-size=\"14.00\" fill=\"#000000\">Uniform</text>\n",
       "</g>\n",
       "<!-- phi_1&#45;&gt;b_1 -->\n",
       "<g id=\"edge2\" class=\"edge\">\n",
       "<title>phi_1&#45;&gt;b_1</title>\n",
       "<path fill=\"none\" stroke=\"#000000\" d=\"M338.7544,-260.3988C320.0537,-244.3056 296.1896,-223.7688 277.2715,-207.4885\"/>\n",
       "<polygon fill=\"#000000\" stroke=\"#000000\" points=\"279.3588,-204.6671 269.496,-200.7971 274.7928,-209.9729 279.3588,-204.6671\"/>\n",
       "</g>\n",
       "<!-- votes_count -->\n",
       "<g id=\"node5\" class=\"node\">\n",
       "<title>votes_count</title>\n",
       "<ellipse fill=\"#d3d3d3\" stroke=\"#000000\" cx=\"206.4061\" cy=\"-73.3553\" rx=\"59.3068\" ry=\"35.2113\"/>\n",
       "<text text-anchor=\"middle\" x=\"206.4061\" y=\"-83.1553\" font-family=\"Times,serif\" font-size=\"14.00\" fill=\"#000000\">votes_count</text>\n",
       "<text text-anchor=\"middle\" x=\"206.4061\" y=\"-69.1553\" font-family=\"Times,serif\" font-size=\"14.00\" fill=\"#000000\">~</text>\n",
       "<text text-anchor=\"middle\" x=\"206.4061\" y=\"-55.1553\" font-family=\"Times,serif\" font-size=\"14.00\" fill=\"#000000\">Binomial</text>\n",
       "</g>\n",
       "<!-- b_2&#45;&gt;votes_count -->\n",
       "<g id=\"edge5\" class=\"edge\">\n",
       "<title>b_2&#45;&gt;votes_count</title>\n",
       "<path fill=\"none\" stroke=\"#000000\" d=\"M180.0138,-147.4695C183.388,-137.9941 187.1307,-127.4838 190.7118,-117.4275\"/>\n",
       "<polygon fill=\"#000000\" stroke=\"#000000\" points=\"194.0208,-118.5683 194.0784,-107.9736 187.4265,-116.22 194.0208,-118.5683\"/>\n",
       "</g>\n",
       "<!-- b_1&#45;&gt;votes_count -->\n",
       "<g id=\"edge6\" class=\"edge\">\n",
       "<title>b_1&#45;&gt;votes_count</title>\n",
       "<path fill=\"none\" stroke=\"#000000\" d=\"M233.4929,-147.4695C230.0298,-137.9941 226.1886,-127.4838 222.5133,-117.4275\"/>\n",
       "<polygon fill=\"#000000\" stroke=\"#000000\" points=\"225.7782,-116.1645 219.0581,-107.9736 219.2035,-118.5674 225.7782,-116.1645\"/>\n",
       "</g>\n",
       "</g>\n",
       "</svg>\n"
      ],
      "text/plain": [
       "<graphviz.dot.Digraph at 0x7fc6e5f35d90>"
      ]
     },
     "execution_count": 21,
     "metadata": {},
     "output_type": "execute_result"
    }
   ],
   "source": [
    "model = ei_2by2.sim_model\n",
    "pm.model_to_graphviz(model)"
   ]
  },
  {
   "cell_type": "code",
   "execution_count": 24,
   "id": "structured-delay",
   "metadata": {},
   "outputs": [
    {
     "data": {
      "image/svg+xml": [
       "<?xml version=\"1.0\" encoding=\"UTF-8\" standalone=\"no\"?>\n",
       "<!DOCTYPE svg PUBLIC \"-//W3C//DTD SVG 1.1//EN\"\n",
       " \"http://www.w3.org/Graphics/SVG/1.1/DTD/svg11.dtd\">\n",
       "<!-- Generated by graphviz version 2.40.1 (20161225.0304)\n",
       " -->\n",
       "<!-- Title: %3 Pages: 1 -->\n",
       "<svg width=\"245pt\" height=\"454pt\"\n",
       " viewBox=\"0.00 0.00 245.00 454.13\" xmlns=\"http://www.w3.org/2000/svg\" xmlns:xlink=\"http://www.w3.org/1999/xlink\">\n",
       "<g id=\"graph0\" class=\"graph\" transform=\"scale(1 1) rotate(0) translate(4 450.132)\">\n",
       "<title>%3</title>\n",
       "<polygon fill=\"#ffffff\" stroke=\"transparent\" points=\"-4,4 -4,-450.132 241,-450.132 241,4 -4,4\"/>\n",
       "<g id=\"clust1\" class=\"cluster\">\n",
       "<title>cluster3</title>\n",
       "<path fill=\"none\" stroke=\"#000000\" d=\"M20,-329.4214C20,-329.4214 86,-329.4214 86,-329.4214 92,-329.4214 98,-335.4214 98,-341.4214 98,-341.4214 98,-426.132 98,-426.132 98,-432.132 92,-438.132 86,-438.132 86,-438.132 20,-438.132 20,-438.132 14,-438.132 8,-432.132 8,-426.132 8,-426.132 8,-341.4214 8,-341.4214 8,-335.4214 14,-329.4214 20,-329.4214\"/>\n",
       "<text text-anchor=\"middle\" x=\"86.5\" y=\"-336.2214\" font-family=\"Times,serif\" font-size=\"14.00\" fill=\"#000000\">3</text>\n",
       "</g>\n",
       "<g id=\"clust2\" class=\"cluster\">\n",
       "<title>cluster3 x 3</title>\n",
       "<path fill=\"none\" stroke=\"#000000\" d=\"M118,-241.4214C118,-241.4214 202,-241.4214 202,-241.4214 208,-241.4214 214,-247.4214 214,-253.4214 214,-253.4214 214,-426.132 214,-426.132 214,-432.132 208,-438.132 202,-438.132 202,-438.132 118,-438.132 118,-438.132 112,-438.132 106,-432.132 106,-426.132 106,-426.132 106,-253.4214 106,-253.4214 106,-247.4214 112,-241.4214 118,-241.4214\"/>\n",
       "<text text-anchor=\"middle\" x=\"192\" y=\"-248.2214\" font-family=\"Times,serif\" font-size=\"14.00\" fill=\"#000000\">3 x 3</text>\n",
       "</g>\n",
       "<g id=\"clust3\" class=\"cluster\">\n",
       "<title>cluster42 x 3 x 3</title>\n",
       "<path fill=\"none\" stroke=\"#000000\" d=\"M118,-124.7107C118,-124.7107 202,-124.7107 202,-124.7107 208,-124.7107 214,-130.7107 214,-136.7107 214,-136.7107 214,-221.4214 214,-221.4214 214,-227.4214 208,-233.4214 202,-233.4214 202,-233.4214 118,-233.4214 118,-233.4214 112,-233.4214 106,-227.4214 106,-221.4214 106,-221.4214 106,-136.7107 106,-136.7107 106,-130.7107 112,-124.7107 118,-124.7107\"/>\n",
       "<text text-anchor=\"middle\" x=\"178\" y=\"-131.5107\" font-family=\"Times,serif\" font-size=\"14.00\" fill=\"#000000\">42 x 3 x 3</text>\n",
       "</g>\n",
       "<g id=\"clust4\" class=\"cluster\">\n",
       "<title>cluster42 x 3</title>\n",
       "<path fill=\"none\" stroke=\"#000000\" d=\"M103,-8C103,-8 217,-8 217,-8 223,-8 229,-14 229,-20 229,-20 229,-104.7107 229,-104.7107 229,-110.7107 223,-116.7107 217,-116.7107 217,-116.7107 103,-116.7107 103,-116.7107 97,-116.7107 91,-110.7107 91,-104.7107 91,-104.7107 91,-20 91,-20 91,-14 97,-8 103,-8\"/>\n",
       "<text text-anchor=\"middle\" x=\"203.5\" y=\"-14.8\" font-family=\"Times,serif\" font-size=\"14.00\" fill=\"#000000\">42 x 3</text>\n",
       "</g>\n",
       "<!-- kappa -->\n",
       "<g id=\"node1\" class=\"node\">\n",
       "<title>kappa</title>\n",
       "<ellipse fill=\"none\" stroke=\"#000000\" cx=\"53\" cy=\"-394.7767\" rx=\"36.7079\" ry=\"35.2113\"/>\n",
       "<text text-anchor=\"middle\" x=\"53\" y=\"-404.5767\" font-family=\"Times,serif\" font-size=\"14.00\" fill=\"#000000\">kappa</text>\n",
       "<text text-anchor=\"middle\" x=\"53\" y=\"-390.5767\" font-family=\"Times,serif\" font-size=\"14.00\" fill=\"#000000\">~</text>\n",
       "<text text-anchor=\"middle\" x=\"53\" y=\"-376.5767\" font-family=\"Times,serif\" font-size=\"14.00\" fill=\"#000000\">Pareto</text>\n",
       "</g>\n",
       "<!-- phi_kappa -->\n",
       "<g id=\"node2\" class=\"node\">\n",
       "<title>phi_kappa</title>\n",
       "<polygon fill=\"none\" stroke=\"#000000\" points=\"206.2004,-321.4214 113.7996,-321.4214 113.7996,-271.4214 206.2004,-271.4214 206.2004,-321.4214\"/>\n",
       "<text text-anchor=\"middle\" x=\"160\" y=\"-306.2214\" font-family=\"Times,serif\" font-size=\"14.00\" fill=\"#000000\">phi_kappa</text>\n",
       "<text text-anchor=\"middle\" x=\"160\" y=\"-292.2214\" font-family=\"Times,serif\" font-size=\"14.00\" fill=\"#000000\">~</text>\n",
       "<text text-anchor=\"middle\" x=\"160\" y=\"-278.2214\" font-family=\"Times,serif\" font-size=\"14.00\" fill=\"#000000\">Deterministic</text>\n",
       "</g>\n",
       "<!-- kappa&#45;&gt;phi_kappa -->\n",
       "<g id=\"edge2\" class=\"edge\">\n",
       "<title>kappa&#45;&gt;phi_kappa</title>\n",
       "<path fill=\"none\" stroke=\"#000000\" d=\"M71.9057,-364.3253C80.188,-352.5173 90.6159,-339.4539 102,-329.4214 103.1408,-328.416 104.317,-327.427 105.5222,-326.4553\"/>\n",
       "<polygon fill=\"#000000\" stroke=\"#000000\" points=\"107.8731,-329.0695 113.824,-320.3038 103.7056,-323.4452 107.8731,-329.0695\"/>\n",
       "</g>\n",
       "<!-- b -->\n",
       "<g id=\"node4\" class=\"node\">\n",
       "<title>b</title>\n",
       "<ellipse fill=\"none\" stroke=\"#000000\" cx=\"160\" cy=\"-190.066\" rx=\"46.497\" ry=\"35.2113\"/>\n",
       "<text text-anchor=\"middle\" x=\"160\" y=\"-199.866\" font-family=\"Times,serif\" font-size=\"14.00\" fill=\"#000000\">b</text>\n",
       "<text text-anchor=\"middle\" x=\"160\" y=\"-185.866\" font-family=\"Times,serif\" font-size=\"14.00\" fill=\"#000000\">~</text>\n",
       "<text text-anchor=\"middle\" x=\"160\" y=\"-171.866\" font-family=\"Times,serif\" font-size=\"14.00\" fill=\"#000000\">Dirichlet</text>\n",
       "</g>\n",
       "<!-- phi_kappa&#45;&gt;b -->\n",
       "<g id=\"edge3\" class=\"edge\">\n",
       "<title>phi_kappa&#45;&gt;b</title>\n",
       "<path fill=\"none\" stroke=\"#000000\" d=\"M160,-271.2166C160,-260.5628 160,-247.815 160,-235.6143\"/>\n",
       "<polygon fill=\"#000000\" stroke=\"#000000\" points=\"163.5001,-235.5524 160,-225.5524 156.5001,-235.5524 163.5001,-235.5524\"/>\n",
       "</g>\n",
       "<!-- phi -->\n",
       "<g id=\"node3\" class=\"node\">\n",
       "<title>phi</title>\n",
       "<ellipse fill=\"none\" stroke=\"#000000\" cx=\"160\" cy=\"-394.7767\" rx=\"46.497\" ry=\"35.2113\"/>\n",
       "<text text-anchor=\"middle\" x=\"160\" y=\"-404.5767\" font-family=\"Times,serif\" font-size=\"14.00\" fill=\"#000000\">phi</text>\n",
       "<text text-anchor=\"middle\" x=\"160\" y=\"-390.5767\" font-family=\"Times,serif\" font-size=\"14.00\" fill=\"#000000\">~</text>\n",
       "<text text-anchor=\"middle\" x=\"160\" y=\"-376.5767\" font-family=\"Times,serif\" font-size=\"14.00\" fill=\"#000000\">Dirichlet</text>\n",
       "</g>\n",
       "<!-- phi&#45;&gt;phi_kappa -->\n",
       "<g id=\"edge1\" class=\"edge\">\n",
       "<title>phi&#45;&gt;phi_kappa</title>\n",
       "<path fill=\"none\" stroke=\"#000000\" d=\"M160,-359.2682C160,-350.3301 160,-340.7376 160,-331.8056\"/>\n",
       "<polygon fill=\"#000000\" stroke=\"#000000\" points=\"163.5001,-331.7023 160,-321.7024 156.5001,-331.7024 163.5001,-331.7023\"/>\n",
       "</g>\n",
       "<!-- votes_count -->\n",
       "<g id=\"node5\" class=\"node\">\n",
       "<title>votes_count</title>\n",
       "<ellipse fill=\"#d3d3d3\" stroke=\"#000000\" cx=\"160\" cy=\"-73.3553\" rx=\"60.623\" ry=\"35.2113\"/>\n",
       "<text text-anchor=\"middle\" x=\"160\" y=\"-83.1553\" font-family=\"Times,serif\" font-size=\"14.00\" fill=\"#000000\">votes_count</text>\n",
       "<text text-anchor=\"middle\" x=\"160\" y=\"-69.1553\" font-family=\"Times,serif\" font-size=\"14.00\" fill=\"#000000\">~</text>\n",
       "<text text-anchor=\"middle\" x=\"160\" y=\"-55.1553\" font-family=\"Times,serif\" font-size=\"14.00\" fill=\"#000000\">Multinomial</text>\n",
       "</g>\n",
       "<!-- b&#45;&gt;votes_count -->\n",
       "<g id=\"edge4\" class=\"edge\">\n",
       "<title>b&#45;&gt;votes_count</title>\n",
       "<path fill=\"none\" stroke=\"#000000\" d=\"M160,-154.4148C160,-143.2156 160,-130.6946 160,-118.9068\"/>\n",
       "<polygon fill=\"#000000\" stroke=\"#000000\" points=\"163.5001,-118.7882 160,-108.7882 156.5001,-118.7883 163.5001,-118.7882\"/>\n",
       "</g>\n",
       "</g>\n",
       "</svg>\n"
      ],
      "text/plain": [
       "<graphviz.dot.Digraph at 0x7fc6d023ee20>"
      ]
     },
     "execution_count": 24,
     "metadata": {},
     "output_type": "execute_result"
    }
   ],
   "source": [
    "model = ei_rbyc.sim_model\n",
    "pm.model_to_graphviz(model)"
   ]
  }
 ],
 "metadata": {
  "kernelspec": {
   "display_name": "Python 3",
   "language": "python",
   "name": "python3"
  },
  "language_info": {
   "codemirror_mode": {
    "name": "ipython",
    "version": 3
   },
   "file_extension": ".py",
   "mimetype": "text/x-python",
   "name": "python",
   "nbconvert_exporter": "python",
   "pygments_lexer": "ipython3",
   "version": "3.8.8"
  }
 },
 "nbformat": 4,
 "nbformat_minor": 5
}
